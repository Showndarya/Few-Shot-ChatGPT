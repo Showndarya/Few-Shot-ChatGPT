{
 "cells": [
  {
   "cell_type": "code",
   "execution_count": 1,
   "id": "aed6009e",
   "metadata": {},
   "outputs": [],
   "source": [
    "import pandas as pd\n",
    "import tiktoken\n",
    "from openai.embeddings_utils import get_embedding\n",
    "import openai\n",
    "import numpy as np\n",
    "import csv\n",
    "import json\n",
    "import os\n",
    "from sentence_transformers import util\n",
    "import time\n",
    "\n",
    "openai.api_key = \"\""
   ]
  },
  {
   "cell_type": "markdown",
   "id": "2d968ce7",
   "metadata": {},
   "source": [
    "### Configurations"
   ]
  },
  {
   "cell_type": "code",
   "execution_count": null,
   "id": "3af4b0d5",
   "metadata": {},
   "outputs": [],
   "source": [
    "embedding_model = \"text-embedding-ada-002\"\n",
    "top_similar_questions = 3\n",
    "few_shot_examples_desired = 5\n",
    "codex_engine = \"code-davinci-002\"\n",
    "few_shot_max_tokens = 300\n",
    "codex_time_delay = 3\n",
    "engine_temperature = 0\n",
    "engine_topP = 0"
   ]
  },
  {
   "cell_type": "markdown",
   "id": "59aa241b",
   "metadata": {},
   "source": [
    "### Parse csv file to separate json files for each question"
   ]
  },
  {
   "cell_type": "code",
   "execution_count": null,
   "id": "f7ffd8ae",
   "metadata": {},
   "outputs": [],
   "source": [
    "jsonFields  =  (\n",
    "    \"Id\",\n",
    "    \"Question\",\n",
    "    \"Solution\",\n",
    "    \"ChatGPTSolution\",\n",
    "    \"Grade\",\n",
    "    \"SimilarQuestions\",\n",
    "    \"FewShotQuestion\",\n",
    "    \"FewShotAnswer\",\n",
    "    \"FewSHotEvaluation\"\n",
    ")\n",
    "with open('dataset/dataset.csv') as csvf:\n",
    "    csvReader = csv.DictReader(csvf, jsonFields)\n",
    "    for i, row in enumerate(csvReader):\n",
    "        with open(f'questions/{i}.json', 'w') as jsonf:\n",
    "            json.dump(row, jsonf, indent=4)"
   ]
  },
  {
   "cell_type": "markdown",
   "id": "dd4e316f",
   "metadata": {},
   "source": [
    "### Generate embeddings for each questions using OpenAI"
   ]
  },
  {
   "cell_type": "code",
   "execution_count": 4,
   "id": "7924d16f",
   "metadata": {},
   "outputs": [],
   "source": [
    "if not os.path.exists('dataset/dataset_embeddings.json'):\n",
    "    embeddings=[]\n",
    "    for i in range(22):\n",
    "        with open(f'questions/{i}.json', 'r') as jsonf:\n",
    "            questions=json.load(jsonf)\n",
    "        embedding=openai.Embedding.create(input = questions[\"Question\"], \n",
    "                                            engine = embedding_model)['data'][0]['embedding']\n",
    "        embeddings.append(embedding)\n",
    "    embeddings={'list':embeddings}\n",
    "    with open(f'dataset/dataset_embeddings.json', 'w') as jsonf:\n",
    "        jsonf.write(json.dumps(embeddings))\n",
    "    embeddings=np.array(embeddings['list'])\n",
    "else:\n",
    "    with open('dataset/dataset_embeddings.json', 'r') as f:\n",
    "        elist = json.load(f)['list']\n",
    "    embeddings=np.array(elist)"
   ]
  },
  {
   "cell_type": "markdown",
   "id": "9e2812b9",
   "metadata": {},
   "source": [
    "### Function for calculating cosine similarity"
   ]
  },
  {
   "cell_type": "code",
   "execution_count": 29,
   "id": "dfe0d10c",
   "metadata": {},
   "outputs": [],
   "source": [
    "def cosine_similarity(embeddings, q):\n",
    "    cos_sims = []\n",
    "    cos_to_num = {}\n",
    "    for j in range(len(embeddings)):\n",
    "        cos_sim = util.cos_sim(embeddings[q], embeddings[j]).item()\n",
    "        cos_to_num[cos_sim] = j\n",
    "        cos_sims.append(cos_sim)\n",
    "    ordered = sorted(cos_sims, reverse=True)\n",
    "    closest_qs = []\n",
    "    for val in ordered:\n",
    "        closest_qs.append(cos_to_num[val])\n",
    "    return closest_qs[1:]"
   ]
  },
  {
   "cell_type": "markdown",
   "id": "e85ff270",
   "metadata": {},
   "source": [
    "### Function to calculate top N most similar questions for every question"
   ]
  },
  {
   "cell_type": "code",
   "execution_count": 25,
   "id": "5305d4a9",
   "metadata": {},
   "outputs": [],
   "source": [
    "for i in range(22):\n",
    "    jsonPath='questions/'+str(i)+'.json'\n",
    "    similarQuestions = cosine_similarity(embeddings, i)\n",
    "    gradeOneSimilarQuestions = []\n",
    "    for q in similarQuestions:\n",
    "        questionPath='questions/'+str(q)+'.json'\n",
    "        with open(questionPath, 'r') as jsonf:\n",
    "            squestion = json.load(jsonf)\n",
    "        grade = squestion['Grade']\n",
    "        if grade == \"1\":\n",
    "            gradeOneSimilarQuestions.append(q)\n",
    "        if len(gradeOneSimilarQuestions) == top_similar_questions:\n",
    "            break\n",
    "    with open(jsonPath, 'r') as jsonf:\n",
    "        question = json.load(jsonf)\n",
    "        question['SimilarQuestions'] = gradeOneSimilarQuestions\n",
    "    with open(jsonPath, 'w') as jsonf:\n",
    "        json.dump(question, jsonf, indent=4)\n"
   ]
  },
  {
   "cell_type": "markdown",
   "id": "36c588f3",
   "metadata": {},
   "source": [
    "### Few-shot algorithm using OpenAI"
   ]
  },
  {
   "cell_type": "code",
   "execution_count": 7,
   "id": "421bac1f",
   "metadata": {},
   "outputs": [],
   "source": [
    "def execute_few_shot():\n",
    "    for i in range(21):\n",
    "        jsonPath='questions/'+str(i)+'.json'\n",
    "        with open(jsonPath, 'r') as jsonf:\n",
    "            question = json.load(jsonf)\n",
    "        if question[\"Grade\"] == '1':\n",
    "            print(\"Few-shot not needed for question \"+str(i))\n",
    "        else:\n",
    "            print(\"Performing few-shot for question \"+str(i))\n",
    "            fewShotInput = ''\n",
    "            for closest in question[\"SimilarQuestions\"]:\n",
    "                similarJsonPath='questions/'+str(closest)+'.json'\n",
    "                with open(similarJsonPath, 'r') as jsonf:\n",
    "                    similarQuestion = json.load(jsonf)\n",
    "                fewShotInput += similarQuestion[\"Question\"]\n",
    "                fewShotInput += similarQuestion[\"Solution\"]+'\\n\\n'\n",
    "            fewShotInput += question[\"Question\"]\n",
    "            question[\"FewShotQuestion\"]=fewShotInput\n",
    "            start = time.time()\n",
    "            time.sleep(codex_time_delay)\n",
    "            fewShotOutput = openai.Completion.create(engine = codex_engine, \n",
    "                                                        prompt = fewShotInput, \n",
    "                                                        max_tokens = few_shot_max_tokens, \n",
    "                                                        temperature = engine_temperature, \n",
    "                                                        top_p = engine_topP)['choices'][0]['text']\n",
    "            question[\"FewShotAnswer\"]=fewShotOutput\n",
    "            with open(jsonPath, 'w') as jsonf:\n",
    "                json.dump(question, jsonf, indent=4)"
   ]
  },
  {
   "cell_type": "code",
   "execution_count": 8,
   "id": "c8af3930",
   "metadata": {
    "scrolled": false
   },
   "outputs": [
    {
     "name": "stdout",
     "output_type": "stream",
     "text": [
      "Few-shot not needed for question 0\n",
      "Performing few-shot for question 1\n",
      "Few-shot not needed for question 2\n",
      "Performing few-shot for question 3\n",
      "Performing few-shot for question 4\n",
      "Performing few-shot for question 5\n",
      "Performing few-shot for question 6\n",
      "Few-shot not needed for question 7\n",
      "Few-shot not needed for question 8\n",
      "Few-shot not needed for question 9\n",
      "Few-shot not needed for question 10\n",
      "Performing few-shot for question 11\n",
      "Few-shot not needed for question 12\n",
      "Few-shot not needed for question 13\n",
      "Few-shot not needed for question 14\n",
      "Performing few-shot for question 15\n",
      "Few-shot not needed for question 16\n",
      "Performing few-shot for question 17\n",
      "Few-shot not needed for question 18\n",
      "Few-shot not needed for question 19\n",
      "Performing few-shot for question 20\n"
     ]
    }
   ],
   "source": [
    "execute_few_shot()"
   ]
  },
  {
   "cell_type": "markdown",
   "id": "2823f960",
   "metadata": {},
   "source": [
    "### Below code is for generating documentation"
   ]
  },
  {
   "cell_type": "code",
   "execution_count": 27,
   "id": "f6e758a7",
   "metadata": {},
   "outputs": [],
   "source": [
    "# for i in range(22):\n",
    "#     output=\"\"\n",
    "#     jsonPath='questions/'+str(i)+'.json'\n",
    "#     with open(jsonPath, 'r') as jsonf:\n",
    "#         question = json.load(jsonf)\n",
    "#     a=np.array(question[\"SimilarQuestions\"])\n",
    "#     a[0:3]+=1\n",
    "#     if question[\"Grade\"] == \"0\":\n",
    "#         output+=\"$$\\\\textbf{List of most similar questions}:$$\"+','.join(map(str, a))+'\\n'\n",
    "#         output+=\"$$\\\\textbf{Few-shot method result}$$:\"+question[\"FewShotAnswer\"]+'\\n'\n",
    "#         output+=\"$$\\\\textbf{Few-shot method evaluation result}: $$ 0\"+'\\n'\n",
    "#         output+=\"$$\\\\textbf{Code snippet:}$$ Same as question 2\"+'\\n'\n",
    "#         output+=\"$$\\\\textbf{Comments or assumptions}:$$ Same as question 2\"+'\\n'\n",
    "#     else:\n",
    "#         output+=\"$$\\\\textbf{List of most similar questions}:$$\"+','.join(map(str, a))+'\\n'\n",
    "#         output+=\"Few shot not required as the grade is 1 in zero shot\"\n",
    "#     with open('documentation/'+str(i)+'.txt', 'w') as file:\n",
    "#         file.write(output)\n",
    "            "
   ]
  }
 ],
 "metadata": {
  "kernelspec": {
   "display_name": "Python 3 (ipykernel)",
   "language": "python",
   "name": "python3"
  },
  "language_info": {
   "codemirror_mode": {
    "name": "ipython",
    "version": 3
   },
   "file_extension": ".py",
   "mimetype": "text/x-python",
   "name": "python",
   "nbconvert_exporter": "python",
   "pygments_lexer": "ipython3",
   "version": "3.9.13"
  }
 },
 "nbformat": 4,
 "nbformat_minor": 5
}
